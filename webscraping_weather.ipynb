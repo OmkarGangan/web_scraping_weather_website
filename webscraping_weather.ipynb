{
 "cells": [
  {
   "cell_type": "code",
   "execution_count": 26,
   "metadata": {},
   "outputs": [
    {
     "name": "stdout",
     "output_type": "stream",
     "text": [
      "Enter Indian City ->k\n"
     ]
    },
    {
     "ename": "AttributeError",
     "evalue": "'NoneType' object has no attribute 'text'",
     "output_type": "error",
     "traceback": [
      "\u001b[1;31m---------------------------------------------------------------------------\u001b[0m",
      "\u001b[1;31mAttributeError\u001b[0m                            Traceback (most recent call last)",
      "\u001b[1;32m<ipython-input-26-dd6bb09b52f4>\u001b[0m in \u001b[0;36m<module>\u001b[1;34m\u001b[0m\n\u001b[0;32m     23\u001b[0m \u001b[1;31m# find by div tag\u001b[0m\u001b[1;33m\u001b[0m\u001b[1;33m\u001b[0m\u001b[1;33m\u001b[0m\u001b[0m\n\u001b[0;32m     24\u001b[0m \u001b[1;31m# temp in h2 tag\u001b[0m\u001b[1;33m\u001b[0m\u001b[1;33m\u001b[0m\u001b[1;33m\u001b[0m\u001b[0m\n\u001b[1;32m---> 25\u001b[1;33m \u001b[0mtemp\u001b[0m \u001b[1;33m=\u001b[0m \u001b[0msoup\u001b[0m\u001b[1;33m.\u001b[0m\u001b[0mfind\u001b[0m\u001b[1;33m(\u001b[0m\u001b[1;34m'div'\u001b[0m\u001b[1;33m,\u001b[0m\u001b[1;33m{\u001b[0m\u001b[1;34m'class'\u001b[0m\u001b[1;33m:\u001b[0m\u001b[1;34m'h2'\u001b[0m\u001b[1;33m}\u001b[0m\u001b[1;33m)\u001b[0m\u001b[1;33m.\u001b[0m\u001b[0mtext\u001b[0m\u001b[1;33m\u001b[0m\u001b[1;33m\u001b[0m\u001b[0m\n\u001b[0m\u001b[0;32m     26\u001b[0m \u001b[1;33m\u001b[0m\u001b[0m\n\u001b[0;32m     27\u001b[0m \u001b[1;31m# wind and forcast data\u001b[0m\u001b[1;33m\u001b[0m\u001b[1;33m\u001b[0m\u001b[1;33m\u001b[0m\u001b[0m\n",
      "\u001b[1;31mAttributeError\u001b[0m: 'NoneType' object has no attribute 'text'"
     ]
    }
   ],
   "source": [
    "# import required libraries\n",
    "import requests\n",
    "from bs4 import BeautifulSoup\n",
    "\n",
    "# accept user input \n",
    "city = input('Enter Indian City ->')\n",
    "\n",
    "# url of site which we want to scrape\n",
    "url = 'https://www.timeanddate.com/weather/india/'+city\n",
    "\n",
    "# Send a HTTP request to the specified URL and save \n",
    "# the response from server in a response object called page\n",
    "page = requests.get(url)\n",
    "\n",
    "# parsing html content\n",
    "soup=BeautifulSoup(page.text,'html.parser')\n",
    "\n",
    "# city name in h1\n",
    "# getting text from h1 tag\n",
    "a = iter(soup.find_all('h1'))\n",
    "city = next(a).text\n",
    "\n",
    "# find by div tag \n",
    "# temp in h2 tag\n",
    "temp = soup.find('div',{'class':'h2'}).text\n",
    "\n",
    "# wind and forcast data\n",
    "wind = iter(soup.find_all('p'))\n",
    "weather = (next(wind).text)\n",
    "data = (next(wind).text)\n",
    "# visibility , pressure ,dew , etc data\n",
    "w = iter(soup.find_all('tr'))\n",
    "\n",
    "# print required output\n",
    "print('Title:',city)\n",
    "for i in range(7):\n",
    "    print(next(w).text)\n",
    "print('Current Temperature: ',temp)\n",
    "print('Weather:',weather)\n",
    "print(data[0:17])\n",
    "print(data[17:37])\n",
    "print(data[37::])"
   ]
  },
  {
   "cell_type": "code",
   "execution_count": null,
   "metadata": {},
   "outputs": [],
   "source": []
  }
 ],
 "metadata": {
  "kernelspec": {
   "display_name": "Python 3",
   "language": "python",
   "name": "python3"
  },
  "language_info": {
   "codemirror_mode": {
    "name": "ipython",
    "version": 3
   },
   "file_extension": ".py",
   "mimetype": "text/x-python",
   "name": "python",
   "nbconvert_exporter": "python",
   "pygments_lexer": "ipython3",
   "version": "3.8.5"
  }
 },
 "nbformat": 4,
 "nbformat_minor": 4
}
